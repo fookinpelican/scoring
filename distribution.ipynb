{
 "cells": [
  {
   "cell_type": "markdown",
   "metadata": {},
   "source": [
    "- BAD: 1 = applicant defaulted on loan or seriously delinquent; 0 = applicant paid loan\n",
    "- LOAN: Amount of the loan request\n",
    "- MORTDUE: Amount due on existing mortgage\n",
    "- VALUE: Value of current property\n",
    "- REASON: DebtCon = debt consolidation; HomeImp = home improvement\n",
    "- JOB: Occupational categories\n",
    "- YOJ: Years at present job\n",
    "- DEROG: Number of major derogatory reports\n",
    "- DELINQ: Number of delinquent credit lines\n",
    "- CLAGE: Age of oldest credit line in months\n",
    "- NINQ: Number of recent credit inquiries\n",
    "- CLNO: Number of credit lines\n",
    "- DEBTINC: Debt-to-income ratio"
   ]
  },
  {
   "cell_type": "code",
   "execution_count": 1,
   "metadata": {},
   "outputs": [],
   "source": [
    "import pandas as pd\n",
    "import numpy as np\n",
    "import matplotlib.pyplot as plt"
   ]
  },
  {
   "cell_type": "code",
   "execution_count": null,
   "metadata": {},
   "outputs": [],
   "source": [
    "quant = ['LOAN','MORTDUE', 'VALUE',  ]"
   ]
  },
  {
   "cell_type": "code",
   "execution_count": 2,
   "metadata": {},
   "outputs": [],
   "source": [
    "df = pd.read_csv('cleaned.csv')"
   ]
  },
  {
   "cell_type": "code",
   "execution_count": 3,
   "metadata": {},
   "outputs": [
    {
     "data": {
      "text/plain": [
       "(5960, 13)"
      ]
     },
     "execution_count": 3,
     "metadata": {},
     "output_type": "execute_result"
    }
   ],
   "source": [
    "df.shape"
   ]
  },
  {
   "cell_type": "code",
   "execution_count": 4,
   "metadata": {},
   "outputs": [
    {
     "data": {
      "text/html": [
       "<div>\n",
       "<style scoped>\n",
       "    .dataframe tbody tr th:only-of-type {\n",
       "        vertical-align: middle;\n",
       "    }\n",
       "\n",
       "    .dataframe tbody tr th {\n",
       "        vertical-align: top;\n",
       "    }\n",
       "\n",
       "    .dataframe thead th {\n",
       "        text-align: right;\n",
       "    }\n",
       "</style>\n",
       "<table border=\"1\" class=\"dataframe\">\n",
       "  <thead>\n",
       "    <tr style=\"text-align: right;\">\n",
       "      <th></th>\n",
       "      <th>count</th>\n",
       "      <th>mean</th>\n",
       "      <th>std</th>\n",
       "      <th>min</th>\n",
       "      <th>25%</th>\n",
       "      <th>50%</th>\n",
       "      <th>75%</th>\n",
       "      <th>max</th>\n",
       "    </tr>\n",
       "  </thead>\n",
       "  <tbody>\n",
       "    <tr>\n",
       "      <th>BAD</th>\n",
       "      <td>5960.0</td>\n",
       "      <td>0.199497</td>\n",
       "      <td>0.399656</td>\n",
       "      <td>0.000000</td>\n",
       "      <td>0.00000</td>\n",
       "      <td>0.000000</td>\n",
       "      <td>0.000000</td>\n",
       "      <td>1.000000</td>\n",
       "    </tr>\n",
       "    <tr>\n",
       "      <th>LOAN</th>\n",
       "      <td>5960.0</td>\n",
       "      <td>18607.969799</td>\n",
       "      <td>11207.480417</td>\n",
       "      <td>1100.000000</td>\n",
       "      <td>11100.00000</td>\n",
       "      <td>16300.000000</td>\n",
       "      <td>23300.000000</td>\n",
       "      <td>89900.000000</td>\n",
       "    </tr>\n",
       "    <tr>\n",
       "      <th>MORTDUE</th>\n",
       "      <td>5960.0</td>\n",
       "      <td>73758.192253</td>\n",
       "      <td>42486.196090</td>\n",
       "      <td>2063.000000</td>\n",
       "      <td>48139.00000</td>\n",
       "      <td>69460.452973</td>\n",
       "      <td>88200.250000</td>\n",
       "      <td>399550.000000</td>\n",
       "    </tr>\n",
       "    <tr>\n",
       "      <th>VALUE</th>\n",
       "      <td>5960.0</td>\n",
       "      <td>101713.532440</td>\n",
       "      <td>56845.916331</td>\n",
       "      <td>8000.000000</td>\n",
       "      <td>66489.50000</td>\n",
       "      <td>90000.000000</td>\n",
       "      <td>119004.750000</td>\n",
       "      <td>855909.000000</td>\n",
       "    </tr>\n",
       "    <tr>\n",
       "      <th>YOJ</th>\n",
       "      <td>5960.0</td>\n",
       "      <td>8.745260</td>\n",
       "      <td>7.262805</td>\n",
       "      <td>0.000000</td>\n",
       "      <td>3.00000</td>\n",
       "      <td>7.000000</td>\n",
       "      <td>12.000000</td>\n",
       "      <td>41.000000</td>\n",
       "    </tr>\n",
       "    <tr>\n",
       "      <th>DEROG</th>\n",
       "      <td>5960.0</td>\n",
       "      <td>0.224329</td>\n",
       "      <td>0.798458</td>\n",
       "      <td>0.000000</td>\n",
       "      <td>0.00000</td>\n",
       "      <td>0.000000</td>\n",
       "      <td>0.000000</td>\n",
       "      <td>10.000000</td>\n",
       "    </tr>\n",
       "    <tr>\n",
       "      <th>DELINQ</th>\n",
       "      <td>5960.0</td>\n",
       "      <td>0.417785</td>\n",
       "      <td>1.080244</td>\n",
       "      <td>0.000000</td>\n",
       "      <td>0.00000</td>\n",
       "      <td>0.000000</td>\n",
       "      <td>0.000000</td>\n",
       "      <td>15.000000</td>\n",
       "    </tr>\n",
       "    <tr>\n",
       "      <th>CLAGE</th>\n",
       "      <td>5960.0</td>\n",
       "      <td>179.658450</td>\n",
       "      <td>83.643553</td>\n",
       "      <td>0.000000</td>\n",
       "      <td>117.37143</td>\n",
       "      <td>175.615849</td>\n",
       "      <td>227.143058</td>\n",
       "      <td>1168.233561</td>\n",
       "    </tr>\n",
       "    <tr>\n",
       "      <th>NINQ</th>\n",
       "      <td>5960.0</td>\n",
       "      <td>1.182718</td>\n",
       "      <td>1.656326</td>\n",
       "      <td>0.000000</td>\n",
       "      <td>0.00000</td>\n",
       "      <td>1.000000</td>\n",
       "      <td>2.000000</td>\n",
       "      <td>17.000000</td>\n",
       "    </tr>\n",
       "    <tr>\n",
       "      <th>CLNO</th>\n",
       "      <td>5960.0</td>\n",
       "      <td>21.247819</td>\n",
       "      <td>9.951308</td>\n",
       "      <td>0.000000</td>\n",
       "      <td>15.00000</td>\n",
       "      <td>20.000000</td>\n",
       "      <td>26.000000</td>\n",
       "      <td>71.000000</td>\n",
       "    </tr>\n",
       "    <tr>\n",
       "      <th>DEBTINC</th>\n",
       "      <td>5960.0</td>\n",
       "      <td>33.817880</td>\n",
       "      <td>7.668335</td>\n",
       "      <td>0.524499</td>\n",
       "      <td>30.50740</td>\n",
       "      <td>34.241852</td>\n",
       "      <td>37.949892</td>\n",
       "      <td>203.312149</td>\n",
       "    </tr>\n",
       "  </tbody>\n",
       "</table>\n",
       "</div>"
      ],
      "text/plain": [
       "          count           mean           std          min          25%  \\\n",
       "BAD      5960.0       0.199497      0.399656     0.000000      0.00000   \n",
       "LOAN     5960.0   18607.969799  11207.480417  1100.000000  11100.00000   \n",
       "MORTDUE  5960.0   73758.192253  42486.196090  2063.000000  48139.00000   \n",
       "VALUE    5960.0  101713.532440  56845.916331  8000.000000  66489.50000   \n",
       "YOJ      5960.0       8.745260      7.262805     0.000000      3.00000   \n",
       "DEROG    5960.0       0.224329      0.798458     0.000000      0.00000   \n",
       "DELINQ   5960.0       0.417785      1.080244     0.000000      0.00000   \n",
       "CLAGE    5960.0     179.658450     83.643553     0.000000    117.37143   \n",
       "NINQ     5960.0       1.182718      1.656326     0.000000      0.00000   \n",
       "CLNO     5960.0      21.247819      9.951308     0.000000     15.00000   \n",
       "DEBTINC  5960.0      33.817880      7.668335     0.524499     30.50740   \n",
       "\n",
       "                  50%            75%            max  \n",
       "BAD          0.000000       0.000000       1.000000  \n",
       "LOAN     16300.000000   23300.000000   89900.000000  \n",
       "MORTDUE  69460.452973   88200.250000  399550.000000  \n",
       "VALUE    90000.000000  119004.750000  855909.000000  \n",
       "YOJ          7.000000      12.000000      41.000000  \n",
       "DEROG        0.000000       0.000000      10.000000  \n",
       "DELINQ       0.000000       0.000000      15.000000  \n",
       "CLAGE      175.615849     227.143058    1168.233561  \n",
       "NINQ         1.000000       2.000000      17.000000  \n",
       "CLNO        20.000000      26.000000      71.000000  \n",
       "DEBTINC     34.241852      37.949892     203.312149  "
      ]
     },
     "execution_count": 4,
     "metadata": {},
     "output_type": "execute_result"
    }
   ],
   "source": [
    "df.describe().T"
   ]
  },
  {
   "cell_type": "code",
   "execution_count": 6,
   "metadata": {},
   "outputs": [
    {
     "name": "stdout",
     "output_type": "stream",
     "text": [
      "BAD  -  0/5960\n",
      "LOAN  -  0/5960\n",
      "MORTDUE  -  0/5960\n",
      "VALUE  -  0/5960\n",
      "REASON  -  0/5960\n",
      "JOB  -  0/5960\n",
      "YOJ  -  0/5960\n",
      "DEROG  -  0/5960\n",
      "DELINQ  -  0/5960\n",
      "CLAGE  -  0/5960\n",
      "NINQ  -  0/5960\n",
      "CLNO  -  0/5960\n",
      "DEBTINC  -  0/5960\n"
     ]
    }
   ],
   "source": [
    "cols = df.columns\n",
    "for c in cols : \n",
    "    print(c + '  -  '+str(df[c].isna().sum()) + '/'+str(df.shape[0]))"
   ]
  },
  {
   "cell_type": "code",
   "execution_count": null,
   "metadata": {},
   "outputs": [],
   "source": []
  },
  {
   "cell_type": "code",
   "execution_count": null,
   "metadata": {},
   "outputs": [],
   "source": []
  },
  {
   "cell_type": "code",
   "execution_count": null,
   "metadata": {},
   "outputs": [],
   "source": []
  },
  {
   "cell_type": "code",
   "execution_count": null,
   "metadata": {},
   "outputs": [],
   "source": []
  }
 ],
 "metadata": {
  "kernelspec": {
   "display_name": "Python 3",
   "language": "python",
   "name": "python3"
  },
  "language_info": {
   "codemirror_mode": {
    "name": "ipython",
    "version": 3
   },
   "file_extension": ".py",
   "mimetype": "text/x-python",
   "name": "python",
   "nbconvert_exporter": "python",
   "pygments_lexer": "ipython3",
   "version": "3.9.1"
  }
 },
 "nbformat": 4,
 "nbformat_minor": 4
}
