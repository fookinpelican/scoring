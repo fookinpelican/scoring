{
 "cells": [
  {
   "cell_type": "code",
   "execution_count": 1,
   "metadata": {},
   "outputs": [],
   "source": [
    "import pandas as pd\n",
    "import numpy as np\n",
    "import matplotlib.pyplot as plt"
   ]
  },
  {
   "cell_type": "code",
   "execution_count": 2,
   "metadata": {},
   "outputs": [],
   "source": [
    "df = pd.read_csv('hmeq.csv')"
   ]
  },
  {
   "cell_type": "code",
   "execution_count": 3,
   "metadata": {},
   "outputs": [
    {
     "data": {
      "text/plain": [
       "(5960, 13)"
      ]
     },
     "execution_count": 3,
     "metadata": {},
     "output_type": "execute_result"
    }
   ],
   "source": [
    "df.shape"
   ]
  },
  {
   "cell_type": "markdown",
   "metadata": {},
   "source": [
    "- BAD: 1 = applicant defaulted on loan or seriously delinquent; 0 = applicant paid loan\n",
    "- LOAN: Amount of the loan request\n",
    "- MORTDUE: Amount due on existing mortgage\n",
    "- VALUE: Value of current property\n",
    "- REASON: DebtCon = debt consolidation; HomeImp = home improvement\n",
    "- JOB: Occupational categories\n",
    "- YOJ: Years at present job\n",
    "- DEROG: Number of major derogatory reports\n",
    "- DELINQ: Number of delinquent credit lines\n",
    "- CLAGE: Age of oldest credit line in months\n",
    "- NINQ: Number of recent credit inquiries\n",
    "- CLNO: Number of credit lines\n",
    "- DEBTINC: Debt-to-income ratio"
   ]
  },
  {
   "cell_type": "code",
   "execution_count": 4,
   "metadata": {},
   "outputs": [
    {
     "data": {
      "text/html": [
       "<div>\n",
       "<style scoped>\n",
       "    .dataframe tbody tr th:only-of-type {\n",
       "        vertical-align: middle;\n",
       "    }\n",
       "\n",
       "    .dataframe tbody tr th {\n",
       "        vertical-align: top;\n",
       "    }\n",
       "\n",
       "    .dataframe thead th {\n",
       "        text-align: right;\n",
       "    }\n",
       "</style>\n",
       "<table border=\"1\" class=\"dataframe\">\n",
       "  <thead>\n",
       "    <tr style=\"text-align: right;\">\n",
       "      <th></th>\n",
       "      <th>count</th>\n",
       "      <th>mean</th>\n",
       "      <th>std</th>\n",
       "      <th>min</th>\n",
       "      <th>25%</th>\n",
       "      <th>50%</th>\n",
       "      <th>75%</th>\n",
       "      <th>max</th>\n",
       "    </tr>\n",
       "  </thead>\n",
       "  <tbody>\n",
       "    <tr>\n",
       "      <th>BAD</th>\n",
       "      <td>5960.0</td>\n",
       "      <td>0.199497</td>\n",
       "      <td>0.399656</td>\n",
       "      <td>0.000000</td>\n",
       "      <td>0.000000</td>\n",
       "      <td>0.000000</td>\n",
       "      <td>0.000000</td>\n",
       "      <td>1.000000</td>\n",
       "    </tr>\n",
       "    <tr>\n",
       "      <th>LOAN</th>\n",
       "      <td>5960.0</td>\n",
       "      <td>18607.969799</td>\n",
       "      <td>11207.480417</td>\n",
       "      <td>1100.000000</td>\n",
       "      <td>11100.000000</td>\n",
       "      <td>16300.000000</td>\n",
       "      <td>23300.000000</td>\n",
       "      <td>89900.000000</td>\n",
       "    </tr>\n",
       "    <tr>\n",
       "      <th>MORTDUE</th>\n",
       "      <td>5442.0</td>\n",
       "      <td>73760.817200</td>\n",
       "      <td>44457.609458</td>\n",
       "      <td>2063.000000</td>\n",
       "      <td>46276.000000</td>\n",
       "      <td>65019.000000</td>\n",
       "      <td>91488.000000</td>\n",
       "      <td>399550.000000</td>\n",
       "    </tr>\n",
       "    <tr>\n",
       "      <th>VALUE</th>\n",
       "      <td>5848.0</td>\n",
       "      <td>101776.048741</td>\n",
       "      <td>57385.775334</td>\n",
       "      <td>8000.000000</td>\n",
       "      <td>66075.500000</td>\n",
       "      <td>89235.500000</td>\n",
       "      <td>119824.250000</td>\n",
       "      <td>855909.000000</td>\n",
       "    </tr>\n",
       "    <tr>\n",
       "      <th>YOJ</th>\n",
       "      <td>5445.0</td>\n",
       "      <td>8.922268</td>\n",
       "      <td>7.573982</td>\n",
       "      <td>0.000000</td>\n",
       "      <td>3.000000</td>\n",
       "      <td>7.000000</td>\n",
       "      <td>13.000000</td>\n",
       "      <td>41.000000</td>\n",
       "    </tr>\n",
       "    <tr>\n",
       "      <th>DEROG</th>\n",
       "      <td>5252.0</td>\n",
       "      <td>0.254570</td>\n",
       "      <td>0.846047</td>\n",
       "      <td>0.000000</td>\n",
       "      <td>0.000000</td>\n",
       "      <td>0.000000</td>\n",
       "      <td>0.000000</td>\n",
       "      <td>10.000000</td>\n",
       "    </tr>\n",
       "    <tr>\n",
       "      <th>DELINQ</th>\n",
       "      <td>5380.0</td>\n",
       "      <td>0.449442</td>\n",
       "      <td>1.127266</td>\n",
       "      <td>0.000000</td>\n",
       "      <td>0.000000</td>\n",
       "      <td>0.000000</td>\n",
       "      <td>0.000000</td>\n",
       "      <td>15.000000</td>\n",
       "    </tr>\n",
       "    <tr>\n",
       "      <th>CLAGE</th>\n",
       "      <td>5652.0</td>\n",
       "      <td>179.766275</td>\n",
       "      <td>85.810092</td>\n",
       "      <td>0.000000</td>\n",
       "      <td>115.116702</td>\n",
       "      <td>173.466667</td>\n",
       "      <td>231.562278</td>\n",
       "      <td>1168.233561</td>\n",
       "    </tr>\n",
       "    <tr>\n",
       "      <th>NINQ</th>\n",
       "      <td>5450.0</td>\n",
       "      <td>1.186055</td>\n",
       "      <td>1.728675</td>\n",
       "      <td>0.000000</td>\n",
       "      <td>0.000000</td>\n",
       "      <td>1.000000</td>\n",
       "      <td>2.000000</td>\n",
       "      <td>17.000000</td>\n",
       "    </tr>\n",
       "    <tr>\n",
       "      <th>CLNO</th>\n",
       "      <td>5738.0</td>\n",
       "      <td>21.296096</td>\n",
       "      <td>10.138933</td>\n",
       "      <td>0.000000</td>\n",
       "      <td>15.000000</td>\n",
       "      <td>20.000000</td>\n",
       "      <td>26.000000</td>\n",
       "      <td>71.000000</td>\n",
       "    </tr>\n",
       "    <tr>\n",
       "      <th>DEBTINC</th>\n",
       "      <td>4693.0</td>\n",
       "      <td>33.779915</td>\n",
       "      <td>8.601746</td>\n",
       "      <td>0.524499</td>\n",
       "      <td>29.140031</td>\n",
       "      <td>34.818262</td>\n",
       "      <td>39.003141</td>\n",
       "      <td>203.312149</td>\n",
       "    </tr>\n",
       "  </tbody>\n",
       "</table>\n",
       "</div>"
      ],
      "text/plain": [
       "          count           mean           std          min           25%  \\\n",
       "BAD      5960.0       0.199497      0.399656     0.000000      0.000000   \n",
       "LOAN     5960.0   18607.969799  11207.480417  1100.000000  11100.000000   \n",
       "MORTDUE  5442.0   73760.817200  44457.609458  2063.000000  46276.000000   \n",
       "VALUE    5848.0  101776.048741  57385.775334  8000.000000  66075.500000   \n",
       "YOJ      5445.0       8.922268      7.573982     0.000000      3.000000   \n",
       "DEROG    5252.0       0.254570      0.846047     0.000000      0.000000   \n",
       "DELINQ   5380.0       0.449442      1.127266     0.000000      0.000000   \n",
       "CLAGE    5652.0     179.766275     85.810092     0.000000    115.116702   \n",
       "NINQ     5450.0       1.186055      1.728675     0.000000      0.000000   \n",
       "CLNO     5738.0      21.296096     10.138933     0.000000     15.000000   \n",
       "DEBTINC  4693.0      33.779915      8.601746     0.524499     29.140031   \n",
       "\n",
       "                  50%            75%            max  \n",
       "BAD          0.000000       0.000000       1.000000  \n",
       "LOAN     16300.000000   23300.000000   89900.000000  \n",
       "MORTDUE  65019.000000   91488.000000  399550.000000  \n",
       "VALUE    89235.500000  119824.250000  855909.000000  \n",
       "YOJ          7.000000      13.000000      41.000000  \n",
       "DEROG        0.000000       0.000000      10.000000  \n",
       "DELINQ       0.000000       0.000000      15.000000  \n",
       "CLAGE      173.466667     231.562278    1168.233561  \n",
       "NINQ         1.000000       2.000000      17.000000  \n",
       "CLNO        20.000000      26.000000      71.000000  \n",
       "DEBTINC     34.818262      39.003141     203.312149  "
      ]
     },
     "execution_count": 4,
     "metadata": {},
     "output_type": "execute_result"
    }
   ],
   "source": [
    "df.describe().T"
   ]
  },
  {
   "cell_type": "code",
   "execution_count": 5,
   "metadata": {},
   "outputs": [],
   "source": [
    "cols = df.columns"
   ]
  },
  {
   "cell_type": "code",
   "execution_count": 6,
   "metadata": {},
   "outputs": [
    {
     "name": "stdout",
     "output_type": "stream",
     "text": [
      "BAD  -  0/5960\n",
      "LOAN  -  0/5960\n",
      "MORTDUE  -  518/5960\n",
      "VALUE  -  112/5960\n",
      "REASON  -  252/5960\n",
      "JOB  -  279/5960\n",
      "YOJ  -  515/5960\n",
      "DEROG  -  708/5960\n",
      "DELINQ  -  580/5960\n",
      "CLAGE  -  308/5960\n",
      "NINQ  -  510/5960\n",
      "CLNO  -  222/5960\n",
      "DEBTINC  -  1267/5960\n"
     ]
    }
   ],
   "source": [
    "for c in cols : \n",
    "    print(c + '  -  '+str(df[c].isna().sum()) + '/'+str(df.shape[0]))"
   ]
  },
  {
   "cell_type": "markdown",
   "metadata": {},
   "source": [
    "#### REASON: DebtCon = debt consolidation; HomeImp = home improvement\n"
   ]
  },
  {
   "cell_type": "code",
   "execution_count": 7,
   "metadata": {},
   "outputs": [],
   "source": [
    "df['REASON'] = df['REASON'].fillna('other')"
   ]
  },
  {
   "cell_type": "markdown",
   "metadata": {},
   "source": [
    "#### JOB "
   ]
  },
  {
   "cell_type": "code",
   "execution_count": 8,
   "metadata": {},
   "outputs": [
    {
     "data": {
      "text/plain": [
       "array(['Other', nan, 'Office', 'Sales', 'Mgr', 'ProfExe', 'Self'],\n",
       "      dtype=object)"
      ]
     },
     "execution_count": 8,
     "metadata": {},
     "output_type": "execute_result"
    }
   ],
   "source": [
    "df['JOB'].unique()"
   ]
  },
  {
   "cell_type": "code",
   "execution_count": 9,
   "metadata": {},
   "outputs": [],
   "source": [
    "df['JOB'] = df['JOB'].fillna('Unknown')"
   ]
  },
  {
   "cell_type": "markdown",
   "metadata": {},
   "source": [
    "#### MORTDUE"
   ]
  },
  {
   "cell_type": "code",
   "execution_count": 10,
   "metadata": {},
   "outputs": [],
   "source": [
    "mean_0 = df[df['BAD'] == 0]['MORTDUE'].mean()"
   ]
  },
  {
   "cell_type": "code",
   "execution_count": 11,
   "metadata": {},
   "outputs": [
    {
     "data": {
      "text/plain": [
       "count      4359.000000\n",
       "mean      74829.249055\n",
       "std       43584.993587\n",
       "min        2619.000000\n",
       "25%       47484.000000\n",
       "50%       66839.000000\n",
       "75%       93068.000000\n",
       "max      371003.000000\n",
       "Name: MORTDUE, dtype: float64"
      ]
     },
     "execution_count": 11,
     "metadata": {},
     "output_type": "execute_result"
    }
   ],
   "source": [
    "df[df['BAD'] == 0]['MORTDUE'].describe().T"
   ]
  },
  {
   "cell_type": "code",
   "execution_count": 12,
   "metadata": {},
   "outputs": [],
   "source": [
    "mean_1 =df[df['BAD'] == 1]['MORTDUE'].mean()"
   ]
  },
  {
   "cell_type": "code",
   "execution_count": 13,
   "metadata": {},
   "outputs": [
    {
     "data": {
      "text/plain": [
       "count      1083.000000\n",
       "mean      69460.452973\n",
       "std       47588.194467\n",
       "min        2063.000000\n",
       "25%       39946.500000\n",
       "50%       60279.000000\n",
       "75%       85864.500000\n",
       "max      399550.000000\n",
       "Name: MORTDUE, dtype: float64"
      ]
     },
     "execution_count": 13,
     "metadata": {},
     "output_type": "execute_result"
    }
   ],
   "source": [
    "df[df['BAD'] == 1]['MORTDUE'].describe().T"
   ]
  },
  {
   "cell_type": "code",
   "execution_count": 14,
   "metadata": {},
   "outputs": [],
   "source": [
    "###df[\"MORTDUE\"] = df.groupby(\"BAD\").transform(lambda x: x.fillna(x.mean()))\n",
    "\n",
    "def replace_by_mean(row, mean1, mean0, column) : \n",
    "    if np.isnan(row[column]) : \n",
    "        if row['BAD'] == 1 : \n",
    "            return mean1\n",
    "        else : \n",
    "            return mean0 \n",
    "    return row[column]\n",
    "        "
   ]
  },
  {
   "cell_type": "code",
   "execution_count": 15,
   "metadata": {},
   "outputs": [],
   "source": [
    "df['MORTDUE'] = df.apply(lambda row: replace_by_mean(row, mean1=mean_1, mean0 = mean_0, column='MORTDUE'), axis=1)"
   ]
  },
  {
   "cell_type": "markdown",
   "metadata": {},
   "source": [
    "#### VALUE "
   ]
  },
  {
   "cell_type": "code",
   "execution_count": 16,
   "metadata": {},
   "outputs": [],
   "source": [
    "mean_0 = df[df['BAD'] == 0]['VALUE'].mean()"
   ]
  },
  {
   "cell_type": "code",
   "execution_count": 17,
   "metadata": {},
   "outputs": [
    {
     "data": {
      "text/plain": [
       "count      4764.000000\n",
       "mean     102595.921018\n",
       "std       52748.392952\n",
       "min        8000.000000\n",
       "25%       67297.750000\n",
       "50%       90659.000000\n",
       "75%      120615.500000\n",
       "max      471827.000000\n",
       "Name: VALUE, dtype: float64"
      ]
     },
     "execution_count": 17,
     "metadata": {},
     "output_type": "execute_result"
    }
   ],
   "source": [
    "df[df['BAD'] == 0]['VALUE'].describe().T"
   ]
  },
  {
   "cell_type": "code",
   "execution_count": 18,
   "metadata": {},
   "outputs": [],
   "source": [
    "mean_1 =df[df['BAD'] == 1]['VALUE'].mean()"
   ]
  },
  {
   "cell_type": "code",
   "execution_count": 19,
   "metadata": {},
   "outputs": [
    {
     "data": {
      "text/plain": [
       "count      1084.000000\n",
       "mean      98172.846227\n",
       "std       74339.822506\n",
       "min        8800.000000\n",
       "25%       59368.250000\n",
       "50%       82000.000000\n",
       "75%      116000.000000\n",
       "max      855909.000000\n",
       "Name: VALUE, dtype: float64"
      ]
     },
     "execution_count": 19,
     "metadata": {},
     "output_type": "execute_result"
    }
   ],
   "source": [
    "df[df['BAD'] == 1]['VALUE'].describe().T"
   ]
  },
  {
   "cell_type": "code",
   "execution_count": 20,
   "metadata": {},
   "outputs": [],
   "source": [
    "df['VALUE'] = df.apply(lambda row: replace_by_mean(row, mean1=mean_1, mean0 = mean_0, column='VALUE'), axis=1)"
   ]
  },
  {
   "cell_type": "markdown",
   "metadata": {},
   "source": [
    "#### YOG"
   ]
  },
  {
   "cell_type": "code",
   "execution_count": 21,
   "metadata": {},
   "outputs": [
    {
     "data": {
      "text/plain": [
       "count    5445.000000\n",
       "mean        8.922268\n",
       "std         7.573982\n",
       "min         0.000000\n",
       "25%         3.000000\n",
       "50%         7.000000\n",
       "75%        13.000000\n",
       "max        41.000000\n",
       "Name: YOJ, dtype: float64"
      ]
     },
     "execution_count": 21,
     "metadata": {},
     "output_type": "execute_result"
    }
   ],
   "source": [
    "df['YOJ'].describe()"
   ]
  },
  {
   "cell_type": "code",
   "execution_count": 22,
   "metadata": {},
   "outputs": [],
   "source": [
    "median_0 = df[df['BAD'] == 0]['YOJ'].median()"
   ]
  },
  {
   "cell_type": "code",
   "execution_count": 23,
   "metadata": {},
   "outputs": [],
   "source": [
    "median_1 = df[df['BAD'] == 1]['YOJ'].median()"
   ]
  },
  {
   "cell_type": "code",
   "execution_count": 24,
   "metadata": {},
   "outputs": [],
   "source": [
    "df['YOJ'] = df.apply(lambda row: replace_by_mean(row, mean1=median_1, mean0 = median_0, column='YOJ'), axis=1)"
   ]
  },
  {
   "cell_type": "markdown",
   "metadata": {},
   "source": [
    "#### DEROG : Number of major derogatory reports"
   ]
  },
  {
   "cell_type": "code",
   "execution_count": 25,
   "metadata": {},
   "outputs": [
    {
     "data": {
      "text/plain": [
       "count    5252.000000\n",
       "mean        0.254570\n",
       "std         0.846047\n",
       "min         0.000000\n",
       "25%         0.000000\n",
       "50%         0.000000\n",
       "75%         0.000000\n",
       "max        10.000000\n",
       "Name: DEROG, dtype: float64"
      ]
     },
     "execution_count": 25,
     "metadata": {},
     "output_type": "execute_result"
    }
   ],
   "source": [
    "df['DEROG'].describe()"
   ]
  },
  {
   "cell_type": "code",
   "execution_count": 26,
   "metadata": {},
   "outputs": [
    {
     "data": {
      "text/plain": [
       "0"
      ]
     },
     "execution_count": 26,
     "metadata": {},
     "output_type": "execute_result"
    }
   ],
   "source": [
    "round(df[df['BAD'] == 0]['DEROG'].mean()) # .13 without round"
   ]
  },
  {
   "cell_type": "code",
   "execution_count": 27,
   "metadata": {},
   "outputs": [
    {
     "data": {
      "text/plain": [
       "1"
      ]
     },
     "execution_count": 27,
     "metadata": {},
     "output_type": "execute_result"
    }
   ],
   "source": [
    "round(df[df['BAD'] == 1]['DEROG'].mean()) # 0.7 wihtout round"
   ]
  },
  {
   "cell_type": "code",
   "execution_count": 28,
   "metadata": {},
   "outputs": [
    {
     "data": {
      "text/plain": [
       "count    1102.000000\n",
       "mean        0.707804\n",
       "std         1.468381\n",
       "min         0.000000\n",
       "25%         0.000000\n",
       "50%         0.000000\n",
       "75%         1.000000\n",
       "max        10.000000\n",
       "Name: DEROG, dtype: float64"
      ]
     },
     "execution_count": 28,
     "metadata": {},
     "output_type": "execute_result"
    }
   ],
   "source": [
    "df[df['BAD'] == 1]['DEROG'].describe()"
   ]
  },
  {
   "cell_type": "code",
   "execution_count": 29,
   "metadata": {},
   "outputs": [
    {
     "data": {
      "text/plain": [
       "count    4150.000000\n",
       "mean        0.134217\n",
       "std         0.514490\n",
       "min         0.000000\n",
       "25%         0.000000\n",
       "50%         0.000000\n",
       "75%         0.000000\n",
       "max         6.000000\n",
       "Name: DEROG, dtype: float64"
      ]
     },
     "execution_count": 29,
     "metadata": {},
     "output_type": "execute_result"
    }
   ],
   "source": [
    "df[df['BAD'] == 0]['DEROG'].describe()"
   ]
  },
  {
   "cell_type": "code",
   "execution_count": 30,
   "metadata": {},
   "outputs": [
    {
     "data": {
      "text/plain": [
       "0.0"
      ]
     },
     "execution_count": 30,
     "metadata": {},
     "output_type": "execute_result"
    }
   ],
   "source": [
    "df[df['BAD'] == 0]['DEROG'].median()"
   ]
  },
  {
   "cell_type": "code",
   "execution_count": 31,
   "metadata": {},
   "outputs": [
    {
     "data": {
      "text/plain": [
       "0.0"
      ]
     },
     "execution_count": 31,
     "metadata": {},
     "output_type": "execute_result"
    }
   ],
   "source": [
    "df[df['BAD'] == 1]['DEROG'].median()"
   ]
  },
  {
   "cell_type": "markdown",
   "metadata": {},
   "source": [
    "On met tout à 0 ou on arrondie les moyennes ? 🤔"
   ]
  },
  {
   "cell_type": "code",
   "execution_count": 32,
   "metadata": {},
   "outputs": [],
   "source": [
    "df['DEROG'] = df['DEROG'].fillna(0)"
   ]
  },
  {
   "cell_type": "markdown",
   "metadata": {},
   "source": [
    "#### DELINQ : Number of delinquent credit lines, what to do ? "
   ]
  },
  {
   "cell_type": "code",
   "execution_count": 33,
   "metadata": {},
   "outputs": [
    {
     "data": {
      "text/plain": [
       "count    4263.000000\n",
       "mean        0.245133\n",
       "std         0.674124\n",
       "min         0.000000\n",
       "25%         0.000000\n",
       "50%         0.000000\n",
       "75%         0.000000\n",
       "max         5.000000\n",
       "Name: DELINQ, dtype: float64"
      ]
     },
     "execution_count": 33,
     "metadata": {},
     "output_type": "execute_result"
    }
   ],
   "source": [
    "df[df['BAD'] == 0]['DELINQ'].describe()"
   ]
  },
  {
   "cell_type": "code",
   "execution_count": 34,
   "metadata": {
    "scrolled": true
   },
   "outputs": [
    {
     "data": {
      "text/plain": [
       "count    1117.000000\n",
       "mean        1.229185\n",
       "std         1.902961\n",
       "min         0.000000\n",
       "25%         0.000000\n",
       "50%         0.000000\n",
       "75%         2.000000\n",
       "max        15.000000\n",
       "Name: DELINQ, dtype: float64"
      ]
     },
     "execution_count": 34,
     "metadata": {},
     "output_type": "execute_result"
    }
   ],
   "source": [
    "df[df['BAD'] == 1]['DELINQ'].describe()"
   ]
  },
  {
   "cell_type": "code",
   "execution_count": 35,
   "metadata": {},
   "outputs": [],
   "source": [
    "mean_1 = round(df[df['BAD'] == 1]['DELINQ'].mean())"
   ]
  },
  {
   "cell_type": "code",
   "execution_count": 36,
   "metadata": {},
   "outputs": [],
   "source": [
    "mean_0 = round(df[df['BAD'] == 0]['DELINQ'].mean())"
   ]
  },
  {
   "cell_type": "code",
   "execution_count": 37,
   "metadata": {},
   "outputs": [],
   "source": [
    "df['DELINQ'] = df.apply(lambda row: replace_by_mean(row, mean1=mean_1, mean0 = mean_0, column='DELINQ'), axis=1)"
   ]
  },
  {
   "cell_type": "code",
   "execution_count": 38,
   "metadata": {},
   "outputs": [
    {
     "name": "stdout",
     "output_type": "stream",
     "text": [
      "BAD  -  0/5960\n",
      "LOAN  -  0/5960\n",
      "MORTDUE  -  0/5960\n",
      "VALUE  -  0/5960\n",
      "REASON  -  0/5960\n",
      "JOB  -  0/5960\n",
      "YOJ  -  0/5960\n",
      "DEROG  -  0/5960\n",
      "DELINQ  -  0/5960\n",
      "CLAGE  -  308/5960\n",
      "NINQ  -  510/5960\n",
      "CLNO  -  222/5960\n",
      "DEBTINC  -  1267/5960\n"
     ]
    }
   ],
   "source": [
    "for c in cols : \n",
    "    print(c + '  -  '+str(df[c].isna().sum()) + '/'+str(df.shape[0]))"
   ]
  },
  {
   "cell_type": "markdown",
   "metadata": {},
   "source": [
    "#### CLAGE: Age of oldest credit line in months "
   ]
  },
  {
   "cell_type": "code",
   "execution_count": 39,
   "metadata": {},
   "outputs": [
    {
     "data": {
      "text/plain": [
       "count    5652.000000\n",
       "mean      179.766275\n",
       "std        85.810092\n",
       "min         0.000000\n",
       "25%       115.116702\n",
       "50%       173.466667\n",
       "75%       231.562278\n",
       "max      1168.233561\n",
       "Name: CLAGE, dtype: float64"
      ]
     },
     "execution_count": 39,
     "metadata": {},
     "output_type": "execute_result"
    }
   ],
   "source": [
    "df['CLAGE'].describe()"
   ]
  },
  {
   "cell_type": "code",
   "execution_count": 40,
   "metadata": {},
   "outputs": [
    {
     "data": {
      "text/plain": [
       "count    1111.000000\n",
       "mean      150.190183\n",
       "std        84.952286\n",
       "min         0.000000\n",
       "25%        96.033333\n",
       "50%       132.866667\n",
       "75%       193.283333\n",
       "max      1168.233561\n",
       "Name: CLAGE, dtype: float64"
      ]
     },
     "execution_count": 40,
     "metadata": {},
     "output_type": "execute_result"
    }
   ],
   "source": [
    "df[df['BAD'] == 1]['CLAGE'].describe()"
   ]
  },
  {
   "cell_type": "code",
   "execution_count": 41,
   "metadata": {},
   "outputs": [
    {
     "data": {
      "text/plain": [
       "count    4541.000000\n",
       "mean      187.002355\n",
       "std        84.465217\n",
       "min         0.486711\n",
       "25%       120.219885\n",
       "50%       180.415787\n",
       "75%       240.157802\n",
       "max       649.747104\n",
       "Name: CLAGE, dtype: float64"
      ]
     },
     "execution_count": 41,
     "metadata": {},
     "output_type": "execute_result"
    }
   ],
   "source": [
    "df[df['BAD'] == 0]['CLAGE'].describe()"
   ]
  },
  {
   "cell_type": "code",
   "execution_count": 42,
   "metadata": {},
   "outputs": [],
   "source": [
    "mean_1 = df[df['BAD'] == 1]['CLAGE'].mean()"
   ]
  },
  {
   "cell_type": "code",
   "execution_count": 43,
   "metadata": {},
   "outputs": [],
   "source": [
    "mean_0 = df[df['BAD'] == 0]['CLAGE'].mean()"
   ]
  },
  {
   "cell_type": "code",
   "execution_count": 44,
   "metadata": {},
   "outputs": [],
   "source": [
    "df['CLAGE'] = df.apply(lambda row: replace_by_mean(row, mean1=mean_1, mean0 = mean_0, column='CLAGE'), axis=1)"
   ]
  },
  {
   "cell_type": "markdown",
   "metadata": {},
   "source": [
    "#### NINQ: Number of recent credit inquiries"
   ]
  },
  {
   "cell_type": "code",
   "execution_count": 45,
   "metadata": {},
   "outputs": [
    {
     "name": "stdout",
     "output_type": "stream",
     "text": [
      "BAD  -  0/5960\n",
      "LOAN  -  0/5960\n",
      "MORTDUE  -  0/5960\n",
      "VALUE  -  0/5960\n",
      "REASON  -  0/5960\n",
      "JOB  -  0/5960\n",
      "YOJ  -  0/5960\n",
      "DEROG  -  0/5960\n",
      "DELINQ  -  0/5960\n",
      "CLAGE  -  0/5960\n",
      "NINQ  -  510/5960\n",
      "CLNO  -  222/5960\n",
      "DEBTINC  -  1267/5960\n"
     ]
    }
   ],
   "source": [
    "for c in cols : \n",
    "    print(c + '  -  '+str(df[c].isna().sum()) + '/'+str(df.shape[0]))"
   ]
  },
  {
   "cell_type": "code",
   "execution_count": 46,
   "metadata": {},
   "outputs": [
    {
     "data": {
      "text/plain": [
       "array([ 1.,  0., nan,  2.,  3.,  5., 14., 10.,  4.,  9.,  8.,  6.,  7.,\n",
       "       11., 12., 17., 13.])"
      ]
     },
     "execution_count": 46,
     "metadata": {},
     "output_type": "execute_result"
    }
   ],
   "source": [
    "df['NINQ'].unique()"
   ]
  },
  {
   "cell_type": "code",
   "execution_count": 47,
   "metadata": {},
   "outputs": [
    {
     "data": {
      "text/plain": [
       "count    5450.000000\n",
       "mean        1.186055\n",
       "std         1.728675\n",
       "min         0.000000\n",
       "25%         0.000000\n",
       "50%         1.000000\n",
       "75%         2.000000\n",
       "max        17.000000\n",
       "Name: NINQ, dtype: float64"
      ]
     },
     "execution_count": 47,
     "metadata": {},
     "output_type": "execute_result"
    }
   ],
   "source": [
    "df['NINQ'].describe()"
   ]
  },
  {
   "cell_type": "code",
   "execution_count": 48,
   "metadata": {},
   "outputs": [
    {
     "data": {
      "text/plain": [
       "count    1114.000000\n",
       "mean        1.782765\n",
       "std         2.246976\n",
       "min         0.000000\n",
       "25%         0.000000\n",
       "50%         1.000000\n",
       "75%         3.000000\n",
       "max        17.000000\n",
       "Name: NINQ, dtype: float64"
      ]
     },
     "execution_count": 48,
     "metadata": {},
     "output_type": "execute_result"
    }
   ],
   "source": [
    "df[df['BAD'] == 1]['NINQ'].describe()"
   ]
  },
  {
   "cell_type": "code",
   "execution_count": 49,
   "metadata": {},
   "outputs": [
    {
     "data": {
      "text/plain": [
       "count    4336.000000\n",
       "mean        1.032749\n",
       "std         1.531322\n",
       "min         0.000000\n",
       "25%         0.000000\n",
       "50%         1.000000\n",
       "75%         2.000000\n",
       "max        11.000000\n",
       "Name: NINQ, dtype: float64"
      ]
     },
     "execution_count": 49,
     "metadata": {},
     "output_type": "execute_result"
    }
   ],
   "source": [
    "df[df['BAD'] == 0]['NINQ'].describe()"
   ]
  },
  {
   "cell_type": "markdown",
   "metadata": {},
   "source": [
    "J'hesite entre des arrondies des moyennes ou la mediane aka 1 partout "
   ]
  },
  {
   "cell_type": "code",
   "execution_count": 50,
   "metadata": {},
   "outputs": [],
   "source": [
    "mean_0 = round(df[df['BAD'] == 0]['NINQ'].mean())"
   ]
  },
  {
   "cell_type": "code",
   "execution_count": 51,
   "metadata": {},
   "outputs": [],
   "source": [
    "mean_1 = round(df[df['BAD'] == 1]['NINQ'].mean())"
   ]
  },
  {
   "cell_type": "code",
   "execution_count": 52,
   "metadata": {},
   "outputs": [],
   "source": [
    "df['NINQ'] = df.apply(lambda row: replace_by_mean(row, mean1=mean_1, mean0 = mean_0, column='NINQ'), axis=1)"
   ]
  },
  {
   "cell_type": "markdown",
   "metadata": {},
   "source": [
    "#### CLNO: Number of credit lines"
   ]
  },
  {
   "cell_type": "code",
   "execution_count": 53,
   "metadata": {},
   "outputs": [
    {
     "data": {
      "text/plain": [
       "array([ 9., 14., 10., nan,  8., 17., 12., 13., 25., 24., 16., 22.,  0.,\n",
       "        4., 21., 19., 45., 26., 37.,  3.,  2., 27., 20.,  7., 36., 33.,\n",
       "        6., 28., 11., 31., 15., 18., 23.,  5., 30., 34., 42., 50., 47.,\n",
       "       32., 29., 46., 38., 40., 49., 43., 35.,  1., 56., 39., 51., 55.,\n",
       "       65., 57., 41., 71., 48., 53., 64., 52., 63., 44., 58.])"
      ]
     },
     "execution_count": 53,
     "metadata": {},
     "output_type": "execute_result"
    }
   ],
   "source": [
    "df['CLNO'].unique()"
   ]
  },
  {
   "cell_type": "code",
   "execution_count": 54,
   "metadata": {},
   "outputs": [
    {
     "data": {
      "text/plain": [
       "count    5738.000000\n",
       "mean       21.296096\n",
       "std        10.138933\n",
       "min         0.000000\n",
       "25%        15.000000\n",
       "50%        20.000000\n",
       "75%        26.000000\n",
       "max        71.000000\n",
       "Name: CLNO, dtype: float64"
      ]
     },
     "execution_count": 54,
     "metadata": {},
     "output_type": "execute_result"
    }
   ],
   "source": [
    "df['CLNO'].describe()"
   ]
  },
  {
   "cell_type": "code",
   "execution_count": 55,
   "metadata": {},
   "outputs": [
    {
     "data": {
      "text/plain": [
       "count    4602.000000\n",
       "mean       21.317036\n",
       "std         9.682601\n",
       "min         0.000000\n",
       "25%        15.000000\n",
       "50%        20.000000\n",
       "75%        26.000000\n",
       "max        56.000000\n",
       "Name: CLNO, dtype: float64"
      ]
     },
     "execution_count": 55,
     "metadata": {},
     "output_type": "execute_result"
    }
   ],
   "source": [
    "df[df['BAD'] == 0]['CLNO'].describe()"
   ]
  },
  {
   "cell_type": "code",
   "execution_count": 56,
   "metadata": {},
   "outputs": [
    {
     "data": {
      "text/plain": [
       "count    1136.000000\n",
       "mean       21.211268\n",
       "std        11.812981\n",
       "min         0.000000\n",
       "25%        13.000000\n",
       "50%        20.000000\n",
       "75%        28.000000\n",
       "max        71.000000\n",
       "Name: CLNO, dtype: float64"
      ]
     },
     "execution_count": 56,
     "metadata": {},
     "output_type": "execute_result"
    }
   ],
   "source": [
    "df[df['BAD'] == 1]['CLNO'].describe()"
   ]
  },
  {
   "cell_type": "markdown",
   "metadata": {},
   "source": [
    "c'est la meme partout, let's keep it simple"
   ]
  },
  {
   "cell_type": "code",
   "execution_count": 57,
   "metadata": {},
   "outputs": [],
   "source": [
    "df['CLNO'] = df['CLNO'].fillna(20)"
   ]
  },
  {
   "cell_type": "markdown",
   "metadata": {},
   "source": [
    "#### là ca va etre la merde un peu imo"
   ]
  },
  {
   "cell_type": "markdown",
   "metadata": {},
   "source": [
    "DEBTINC: Debt-to-income ratio"
   ]
  },
  {
   "cell_type": "code",
   "execution_count": 58,
   "metadata": {},
   "outputs": [
    {
     "data": {
      "text/plain": [
       "count    4693.000000\n",
       "mean       33.779915\n",
       "std         8.601746\n",
       "min         0.524499\n",
       "25%        29.140031\n",
       "50%        34.818262\n",
       "75%        39.003141\n",
       "max       203.312149\n",
       "Name: DEBTINC, dtype: float64"
      ]
     },
     "execution_count": 58,
     "metadata": {},
     "output_type": "execute_result"
    }
   ],
   "source": [
    "df['DEBTINC'].describe()"
   ]
  },
  {
   "cell_type": "code",
   "execution_count": 59,
   "metadata": {},
   "outputs": [],
   "source": [
    "distinct_job = df['JOB'].unique()"
   ]
  },
  {
   "cell_type": "code",
   "execution_count": 60,
   "metadata": {},
   "outputs": [
    {
     "data": {
      "text/plain": [
       "array(['Other', 'Unknown', 'Office', 'Sales', 'Mgr', 'ProfExe', 'Self'],\n",
       "      dtype=object)"
      ]
     },
     "execution_count": 60,
     "metadata": {},
     "output_type": "execute_result"
    }
   ],
   "source": [
    "distinct_job"
   ]
  },
  {
   "cell_type": "code",
   "execution_count": 61,
   "metadata": {},
   "outputs": [
    {
     "name": "stdout",
     "output_type": "stream",
     "text": [
      "Other\n",
      "\n",
      "count    1839.000000\n",
      "mean       34.241852\n",
      "std         7.547649\n",
      "min         1.028931\n",
      "25%        29.742754\n",
      "50%        35.247328\n",
      "75%        39.366478\n",
      "max       133.528270\n",
      "Name: DEBTINC, dtype: float64\n",
      "Unknown\n",
      "\n",
      "count    234.000000\n",
      "mean      27.611806\n",
      "std        9.806384\n",
      "min        0.720295\n",
      "25%       23.544869\n",
      "50%       30.311902\n",
      "75%       34.411741\n",
      "max       44.751572\n",
      "Name: DEBTINC, dtype: float64\n",
      "Office\n",
      "\n",
      "count    789.000000\n",
      "mean      34.330619\n",
      "std        7.340354\n",
      "min       12.153521\n",
      "25%       30.999236\n",
      "50%       36.158718\n",
      "75%       39.389909\n",
      "max       67.324904\n",
      "Name: DEBTINC, dtype: float64\n",
      "Sales\n",
      "\n",
      "count     79.000000\n",
      "mean      37.534481\n",
      "std       20.143720\n",
      "min       21.945849\n",
      "25%       31.865983\n",
      "50%       35.764058\n",
      "75%       40.311828\n",
      "max      203.312149\n",
      "Name: DEBTINC, dtype: float64\n",
      "Mgr\n",
      "\n",
      "count    586.000000\n",
      "mean      35.277869\n",
      "std        6.622675\n",
      "min        0.524499\n",
      "25%       30.963902\n",
      "50%       35.661118\n",
      "75%       39.654203\n",
      "max       72.264093\n",
      "Name: DEBTINC, dtype: float64\n",
      "ProfExe\n",
      "\n",
      "count    1024.000000\n",
      "mean       32.540668\n",
      "std         8.445066\n",
      "min         5.762995\n",
      "25%        27.107976\n",
      "50%        33.378041\n",
      "75%        37.995630\n",
      "max       144.189001\n",
      "Name: DEBTINC, dtype: float64\n",
      "Self\n",
      "\n",
      "count    142.000000\n",
      "mean      35.568006\n",
      "std       15.375748\n",
      "min        3.016141\n",
      "25%       26.889053\n",
      "50%       34.830194\n",
      "75%       40.140774\n",
      "max      143.949605\n",
      "Name: DEBTINC, dtype: float64\n"
     ]
    }
   ],
   "source": [
    "mean_per_job = {}\n",
    "for i in distinct_job : \n",
    "    mean_per_job[i] = df[df['JOB'] == i]['DEBTINC'].mean()\n",
    "    print(i)\n",
    "    print()\n",
    "    print(df[df['JOB'] == i]['DEBTINC'].describe())"
   ]
  },
  {
   "cell_type": "code",
   "execution_count": 62,
   "metadata": {},
   "outputs": [
    {
     "data": {
      "text/plain": [
       "{'Other': 34.2418519992031,\n",
       " 'Unknown': 27.6118060898859,\n",
       " 'Office': 34.33061863141572,\n",
       " 'Sales': 37.53448099079746,\n",
       " 'Mgr': 35.277868630982084,\n",
       " 'ProfExe': 32.54066828329834,\n",
       " 'Self': 35.56800592723521}"
      ]
     },
     "execution_count": 62,
     "metadata": {},
     "output_type": "execute_result"
    }
   ],
   "source": [
    "mean_per_job"
   ]
  },
  {
   "cell_type": "code",
   "execution_count": 63,
   "metadata": {},
   "outputs": [],
   "source": [
    "def fill_debt_to_income(row, mean_dict) : \n",
    "    if np.isnan(row['DEBTINC']) : \n",
    "        return mean_dict[row['JOB']]\n",
    "    else : \n",
    "        return row['DEBTINC']"
   ]
  },
  {
   "cell_type": "code",
   "execution_count": 64,
   "metadata": {},
   "outputs": [],
   "source": [
    "df['DEBTINC'] = df.apply(lambda row: fill_debt_to_income(row, mean_dict=mean_per_job), axis=1)"
   ]
  },
  {
   "cell_type": "code",
   "execution_count": 65,
   "metadata": {},
   "outputs": [
    {
     "name": "stdout",
     "output_type": "stream",
     "text": [
      "BAD  -  0/5960\n",
      "LOAN  -  0/5960\n",
      "MORTDUE  -  0/5960\n",
      "VALUE  -  0/5960\n",
      "REASON  -  0/5960\n",
      "JOB  -  0/5960\n",
      "YOJ  -  0/5960\n",
      "DEROG  -  0/5960\n",
      "DELINQ  -  0/5960\n",
      "CLAGE  -  0/5960\n",
      "NINQ  -  0/5960\n",
      "CLNO  -  0/5960\n",
      "DEBTINC  -  0/5960\n"
     ]
    }
   ],
   "source": [
    "for c in cols : \n",
    "    print(c + '  -  '+str(df[c].isna().sum()) + '/'+str(df.shape[0]))"
   ]
  },
  {
   "cell_type": "code",
   "execution_count": 66,
   "metadata": {},
   "outputs": [],
   "source": [
    "df = pd.get_dummies(df, columns=['REASON'])"
   ]
  },
  {
   "cell_type": "code",
   "execution_count": 67,
   "metadata": {},
   "outputs": [],
   "source": [
    "df = pd.get_dummies(df, columns=['JOB'])"
   ]
  },
  {
   "cell_type": "code",
   "execution_count": 68,
   "metadata": {},
   "outputs": [],
   "source": [
    "df.to_csv('cleaned.csv', index=False)"
   ]
  }
 ],
 "metadata": {
  "kernelspec": {
   "display_name": "Python 3",
   "language": "python",
   "name": "python3"
  },
  "language_info": {
   "codemirror_mode": {
    "name": "ipython",
    "version": 3
   },
   "file_extension": ".py",
   "mimetype": "text/x-python",
   "name": "python",
   "nbconvert_exporter": "python",
   "pygments_lexer": "ipython3",
   "version": "3.9.1"
  }
 },
 "nbformat": 4,
 "nbformat_minor": 4
}
